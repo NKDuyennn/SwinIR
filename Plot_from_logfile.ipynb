{
 "cells": [
  {
   "cell_type": "code",
   "execution_count": 28,
   "metadata": {},
   "outputs": [
    {
     "name": "stdout",
     "output_type": "stream",
     "text": [
      "Using matplotlib backend: QtAgg\n"
     ]
    }
   ],
   "source": [
    "import re\n",
    "import numpy as np\n",
    "import matplotlib.pyplot as plt \n",
    "%matplotlib\n",
    "txt = open('denoising/swinir_x1_0dB/train.log', 'r')\n",
    "txt = txt.read()\n",
    "PSNR = re.findall('Average PSNR : (.*?)dB,',txt)\n",
    "SSIM = re.findall('Average SSIM : (.*?),',txt)\n",
    "BER = re.findall('Average BER : (.*?)\\n',txt)"
   ]
  },
  {
   "cell_type": "code",
   "execution_count": 23,
   "metadata": {},
   "outputs": [],
   "source": [
    "all_psnr_res = [float(i) for i in PSNR]\n",
    "all_ssim_res = [float(i) for i in SSIM]\n",
    "all_ber_res = [float(i) for i in BER]"
   ]
  },
  {
   "cell_type": "code",
   "execution_count": 29,
   "metadata": {},
   "outputs": [
    {
     "name": "stdout",
     "output_type": "stream",
     "text": [
      "28.88\n",
      "0.8962\n",
      "0.3271\n"
     ]
    }
   ],
   "source": [
    "max_psnr = max(all_psnr_res)\n",
    "print(max_psnr)\n",
    "\n",
    "max_ssim = max(all_ssim_res)\n",
    "print(max_ssim)\n",
    "\n",
    "min_ber = min(all_ber_res)\n",
    "print(min_ber)"
   ]
  },
  {
   "cell_type": "code",
   "execution_count": 30,
   "metadata": {},
   "outputs": [],
   "source": [
    "x_label = np.arange(5,1000,5)[:len(all_psnr_res)]\n",
    "x_index = np.arange(len(x_label))\n",
    "figPSNR = plt.figure(\"PSNR\")\n",
    "plt.plot(x_index, all_psnr_res, 'o-', linewidth = 2.5)\n",
    "plt.ylabel('PSNR')\n",
    "plt.xlabel('Iteration(x1000)')\n",
    "plt.xticks(x_index, x_label, rotation = 45)\n",
    "plt.grid(True)\n",
    "figPSNR.savefig('./figure/PSNR-Iter-x2-0dB.eps', format=\"eps\", bbox_inches=\"tight\")\n",
    "figPSNR.show()\n",
    "\n",
    "figSSIM = plt.figure(\"SSIM\")\n",
    "plt.plot(x_index, all_ssim_res, 'sr-', linewidth = 2.5)\n",
    "plt.ylabel('SSIM')\n",
    "plt.xlabel('Iteration(x1000)')\n",
    "plt.xticks(x_index, x_label,rotation = 45 )\n",
    "plt.grid(True)\n",
    "figSSIM.savefig('./figure/SSIM-Iter-x2-0dB.eps', format=\"eps\", bbox_inches=\"tight\")\n",
    "figSSIM.show()\n",
    "\n",
    "figBER = plt.figure(\"BER\")\n",
    "plt.plot(x_index, all_ber_res, '*k--', linewidth = 2.5)\n",
    "plt.ylabel('BER')\n",
    "plt.xlabel('Iteration(x1000)')\n",
    "plt.yscale('log')\n",
    "plt.xticks(x_index, x_label, rotation = 45)\n",
    "plt.grid(True)\n",
    "figBER.savefig('./figure/BER-Iter-x2-0dB.eps', format=\"eps\", bbox_inches=\"tight\")\n",
    "figBER.show()"
   ]
  },
  {
   "cell_type": "code",
   "execution_count": null,
   "metadata": {},
   "outputs": [],
   "source": []
  }
 ],
 "metadata": {
  "kernelspec": {
   "display_name": "Python 3.10.8 ('swinir_env')",
   "language": "python",
   "name": "python3"
  },
  "language_info": {
   "codemirror_mode": {
    "name": "ipython",
    "version": 3
   },
   "file_extension": ".py",
   "mimetype": "text/x-python",
   "name": "python",
   "nbconvert_exporter": "python",
   "pygments_lexer": "ipython3",
   "version": "3.10.8"
  },
  "orig_nbformat": 4,
  "vscode": {
   "interpreter": {
    "hash": "915f879355c19d71428e8d05b101613d74252fb644ffa07a09c341aaa72f8fe6"
   }
  }
 },
 "nbformat": 4,
 "nbformat_minor": 2
}
